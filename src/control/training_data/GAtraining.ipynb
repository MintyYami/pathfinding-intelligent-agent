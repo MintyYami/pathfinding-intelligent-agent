{
 "cells": [
  {
   "metadata": {},
   "cell_type": "markdown",
   "source": "# Load data",
   "id": "9c7ca141c9709813"
  },
  {
   "metadata": {
    "ExecuteTime": {
     "end_time": "2025-05-26T11:17:23.564631Z",
     "start_time": "2025-05-26T11:17:23.279260Z"
    }
   },
   "cell_type": "code",
   "source": [
    "import os\n",
    "from joblib import load\n",
    "import pandas as pd\n",
    "\n",
    "# load simulated data\n",
    "\n",
    "all_states = load(\"simulated_states.joblib\")\n",
    "all_labels = load(\"simulated_labels.joblib\")"
   ],
   "id": "e48462dfb21fb720",
   "outputs": [
    {
     "data": {
      "text/plain": [
       "   agent_x  agent_y  target_x  target_y  at_up  at_down  at_left  at_right  \\\n",
       "0        4        4        11         2      0        0        4         4   \n",
       "1        1        1         6         5      2        0        0         0   \n",
       "2        9        7         3         2      0        0        4         4   \n",
       "3        5        4        11         2      0        0        4         4   \n",
       "4        2        1         6         5      0        0        4         4   \n",
       "\n",
       "   hasItem  energy  charge  \n",
       "0        0     119       0  \n",
       "1        0     119       0  \n",
       "2        0     119       0  \n",
       "3        0     118       0  \n",
       "4        0     118       0  "
      ],
      "text/html": [
       "<div>\n",
       "<style scoped>\n",
       "    .dataframe tbody tr th:only-of-type {\n",
       "        vertical-align: middle;\n",
       "    }\n",
       "\n",
       "    .dataframe tbody tr th {\n",
       "        vertical-align: top;\n",
       "    }\n",
       "\n",
       "    .dataframe thead th {\n",
       "        text-align: right;\n",
       "    }\n",
       "</style>\n",
       "<table border=\"1\" class=\"dataframe\">\n",
       "  <thead>\n",
       "    <tr style=\"text-align: right;\">\n",
       "      <th></th>\n",
       "      <th>agent_x</th>\n",
       "      <th>agent_y</th>\n",
       "      <th>target_x</th>\n",
       "      <th>target_y</th>\n",
       "      <th>at_up</th>\n",
       "      <th>at_down</th>\n",
       "      <th>at_left</th>\n",
       "      <th>at_right</th>\n",
       "      <th>hasItem</th>\n",
       "      <th>energy</th>\n",
       "      <th>charge</th>\n",
       "    </tr>\n",
       "  </thead>\n",
       "  <tbody>\n",
       "    <tr>\n",
       "      <th>0</th>\n",
       "      <td>4</td>\n",
       "      <td>4</td>\n",
       "      <td>11</td>\n",
       "      <td>2</td>\n",
       "      <td>0</td>\n",
       "      <td>0</td>\n",
       "      <td>4</td>\n",
       "      <td>4</td>\n",
       "      <td>0</td>\n",
       "      <td>119</td>\n",
       "      <td>0</td>\n",
       "    </tr>\n",
       "    <tr>\n",
       "      <th>1</th>\n",
       "      <td>1</td>\n",
       "      <td>1</td>\n",
       "      <td>6</td>\n",
       "      <td>5</td>\n",
       "      <td>2</td>\n",
       "      <td>0</td>\n",
       "      <td>0</td>\n",
       "      <td>0</td>\n",
       "      <td>0</td>\n",
       "      <td>119</td>\n",
       "      <td>0</td>\n",
       "    </tr>\n",
       "    <tr>\n",
       "      <th>2</th>\n",
       "      <td>9</td>\n",
       "      <td>7</td>\n",
       "      <td>3</td>\n",
       "      <td>2</td>\n",
       "      <td>0</td>\n",
       "      <td>0</td>\n",
       "      <td>4</td>\n",
       "      <td>4</td>\n",
       "      <td>0</td>\n",
       "      <td>119</td>\n",
       "      <td>0</td>\n",
       "    </tr>\n",
       "    <tr>\n",
       "      <th>3</th>\n",
       "      <td>5</td>\n",
       "      <td>4</td>\n",
       "      <td>11</td>\n",
       "      <td>2</td>\n",
       "      <td>0</td>\n",
       "      <td>0</td>\n",
       "      <td>4</td>\n",
       "      <td>4</td>\n",
       "      <td>0</td>\n",
       "      <td>118</td>\n",
       "      <td>0</td>\n",
       "    </tr>\n",
       "    <tr>\n",
       "      <th>4</th>\n",
       "      <td>2</td>\n",
       "      <td>1</td>\n",
       "      <td>6</td>\n",
       "      <td>5</td>\n",
       "      <td>0</td>\n",
       "      <td>0</td>\n",
       "      <td>4</td>\n",
       "      <td>4</td>\n",
       "      <td>0</td>\n",
       "      <td>118</td>\n",
       "      <td>0</td>\n",
       "    </tr>\n",
       "  </tbody>\n",
       "</table>\n",
       "</div>"
      ]
     },
     "execution_count": 1,
     "metadata": {},
     "output_type": "execute_result"
    }
   ],
   "execution_count": 1
  },
  {
   "metadata": {},
   "cell_type": "markdown",
   "source": "# Preprocessing",
   "id": "8f26779c11ca09a8"
  },
  {
   "metadata": {
    "ExecuteTime": {
     "end_time": "2025-05-26T11:17:25.248586Z",
     "start_time": "2025-05-26T11:17:25.244501Z"
    }
   },
   "cell_type": "code",
   "source": [
    "# get dataframe\n",
    "import pandas as pd\n",
    "\n",
    "# column titles\n",
    "state_columns = [\n",
    "    \"agent_x\", \"agent_y\",\n",
    "    \"target_x\", \"target_y\",\n",
    "    \"at_up\", \"at_down\", \"at_left\", \"at_right\",\n",
    "    \"hasItem\", \"energy\", \"charge\"\n",
    "]\n",
    "\n",
    "# Create DataFrame\n",
    "df = pd.DataFrame(all_states, columns=state_columns)\n",
    "df.head()\n",
    "all_states.shape"
   ],
   "id": "9622f0c44202a911",
   "outputs": [
    {
     "data": {
      "text/plain": [
       "(103622, 11)"
      ]
     },
     "execution_count": 2,
     "metadata": {},
     "output_type": "execute_result"
    }
   ],
   "execution_count": 2
  },
  {
   "metadata": {
    "ExecuteTime": {
     "end_time": "2025-05-26T12:47:16.312567Z",
     "start_time": "2025-05-26T12:47:16.283902Z"
    }
   },
   "cell_type": "code",
   "source": [
    "# feature scaling\n",
    "from sklearn.preprocessing import StandardScaler\n",
    "df = pd.DataFrame(all_states, columns=None)\n",
    "\n",
    "scaler = StandardScaler()\n",
    "scaled_df = scaler.fit_transform(df)"
   ],
   "id": "37dd697266c409f6",
   "outputs": [
    {
     "data": {
      "text/plain": [
       "['GAscaler.joblib']"
      ]
     },
     "execution_count": 22,
     "metadata": {},
     "output_type": "execute_result"
    }
   ],
   "execution_count": 22
  },
  {
   "metadata": {
    "ExecuteTime": {
     "end_time": "2025-05-26T11:18:51.878781Z",
     "start_time": "2025-05-26T11:18:51.834222Z"
    }
   },
   "cell_type": "code",
   "source": [
    "# get train and test data\n",
    "from sklearn.model_selection import train_test_split\n",
    "\n",
    "X_train, X_test, y_train, y_test = train_test_split(df, all_labels, test_size=0.2, random_state=1)"
   ],
   "id": "49dfa2b85b7e4420",
   "outputs": [],
   "execution_count": 4
  },
  {
   "metadata": {},
   "cell_type": "markdown",
   "source": "# Train Model\n",
   "id": "57faa8ffe35b2d9b"
  },
  {
   "metadata": {
    "ExecuteTime": {
     "end_time": "2025-05-26T11:18:54.389187Z",
     "start_time": "2025-05-26T11:18:54.386255Z"
    }
   },
   "cell_type": "code",
   "source": [
    "import numpy as np\n",
    "\n",
    "def fitness_function(ga_instance, solution, solution_idx):\n",
    "    weights = solution.reshape(5, len(state_columns))  # 5 actions × 11 features\n",
    "    correct = 0\n",
    "\n",
    "    for state, label in zip(scaled_df, all_labels):\n",
    "        action_scores = np.dot(weights, state)\n",
    "        predicted = np.argmax(action_scores)\n",
    "        if predicted == label:\n",
    "            correct += 1\n",
    "\n",
    "    accuracy = correct / len(scaled_df)\n",
    "    return accuracy"
   ],
   "id": "3b799d022fe459f",
   "outputs": [],
   "execution_count": 5
  },
  {
   "metadata": {
    "ExecuteTime": {
     "end_time": "2025-05-26T11:18:56.027520Z",
     "start_time": "2025-05-26T11:18:56.015646Z"
    }
   },
   "cell_type": "code",
   "source": [
    "import pygad\n",
    "\n",
    "state_columns = [\n",
    "    \"agent_x\", \"agent_y\",\n",
    "    \"target_x\", \"target_y\",\n",
    "    \"at_up\", \"at_down\", \"at_left\", \"at_right\",\n",
    "    \"hasItem\", \"energy\", \"charge\"\n",
    "]\n",
    "num_genes = len(state_columns) * 5\n",
    "\n",
    "\n",
    "gene_space = {'low': -10, 'high': 10}\n",
    "ga_instance = pygad.GA(num_generations=100,\n",
    "                       num_parents_mating=8,\n",
    "                       fitness_func=fitness_function,\n",
    "                       sol_per_pop=16,\n",
    "                       num_genes=num_genes,\n",
    "                       parent_selection_type=\"sss\",\n",
    "                       keep_parents=4,\n",
    "                       keep_elitism=4,\n",
    "                       crossover_type=\"single_point\",\n",
    "                       mutation_type=\"random\",\n",
    "                       mutation_percent_genes=10)"
   ],
   "id": "c0f7f2c5a5ab3140",
   "outputs": [],
   "execution_count": 6
  },
  {
   "metadata": {
    "ExecuteTime": {
     "end_time": "2025-05-26T12:31:22.704460Z",
     "start_time": "2025-05-26T12:27:39.290402Z"
    }
   },
   "cell_type": "code",
   "source": "ga_instance.run()",
   "id": "d413bfc89bf42102",
   "outputs": [],
   "execution_count": 13
  },
  {
   "metadata": {
    "ExecuteTime": {
     "end_time": "2025-05-26T12:41:43.281454Z",
     "start_time": "2025-05-26T12:41:41.995232Z"
    }
   },
   "cell_type": "code",
   "source": [
    "# Get best solution\n",
    "solution, fitness, _ = ga_instance.best_solution()\n",
    "print(\"Best solution fitness:\", fitness)\n",
    "\n",
    "# Convert genes to final weight matrix\n",
    "final_weights = solution.reshape(5, len(state_columns))\n",
    "\n",
    "solution"
   ],
   "id": "1f6fde8809a180ec",
   "outputs": [
    {
     "name": "stdout",
     "output_type": "stream",
     "text": [
      "Best solution fitness: 0.8310783424369342\n"
     ]
    },
    {
     "data": {
      "text/plain": [
       "array([ 3.09941677,  3.13965231, -5.08528533, -3.60086475, -2.62257784,\n",
       "       -0.66777438,  2.93911499, -0.378498  , -1.79697533, -1.51017219,\n",
       "        1.88087111,  1.37677569,  0.7681843 ,  4.76965731, -0.33960742,\n",
       "        0.3487092 , -2.8664437 ,  1.60303803,  1.10109903,  7.55076161,\n",
       "        0.83739632,  3.94363215,  1.10887769,  1.72684155,  0.03232869,\n",
       "       -6.22907108,  4.1891486 , -0.52282471,  0.5529789 , -3.91884507,\n",
       "       -1.83675194, -0.70707948,  2.47772523, -0.36804865, -5.4425574 ,\n",
       "       -0.85070126,  5.06287531,  1.28528709,  0.36975908,  0.04587632,\n",
       "       -5.19135751,  3.9231679 ,  0.59088024, -0.83060193, -0.69068278,\n",
       "       -0.971438  ,  0.08407571, -0.72393772, -5.30512764, -0.86185141,\n",
       "        0.44939623, -0.37549367, -0.06294201,  0.36217139,  4.15987612])"
      ]
     },
     "execution_count": 20,
     "metadata": {},
     "output_type": "execute_result"
    }
   ],
   "execution_count": 20
  },
  {
   "metadata": {},
   "cell_type": "markdown",
   "source": "# Save Model",
   "id": "9fbe3422ca46ab8f"
  },
  {
   "metadata": {
    "ExecuteTime": {
     "end_time": "2025-05-26T12:41:20.568984Z",
     "start_time": "2025-05-26T12:41:20.563371Z"
    }
   },
   "cell_type": "code",
   "source": [
    "from joblib import dump\n",
    "\n",
    "dump(final_weights, \"GAsolution.joblib\")"
   ],
   "id": "7ae6000069d8eb54",
   "outputs": [
    {
     "data": {
      "text/plain": [
       "['GAsolution.joblib']"
      ]
     },
     "execution_count": 18,
     "metadata": {},
     "output_type": "execute_result"
    }
   ],
   "execution_count": 18
  },
  {
   "metadata": {},
   "cell_type": "code",
   "source": [
    "final_weights = solution.reshape(5, len(state_columns))\n",
    "\n",
    "# Use model on a new input\n",
    "sample_state = np.random.rand(len(state_columns)) * 10\n",
    "action_scores = np.dot(final_weights, sample_state)\n",
    "predicted_action = np.argmax(action_scores)\n",
    "\n",
    "print(\"Predicted action for sample input:\", predicted_action)"
   ],
   "id": "bdb7e1aef708fef0",
   "outputs": [],
   "execution_count": null
  }
 ],
 "metadata": {
  "kernelspec": {
   "display_name": "Python 3",
   "language": "python",
   "name": "python3"
  },
  "language_info": {
   "codemirror_mode": {
    "name": "ipython",
    "version": 2
   },
   "file_extension": ".py",
   "mimetype": "text/x-python",
   "name": "python",
   "nbconvert_exporter": "python",
   "pygments_lexer": "ipython2",
   "version": "2.7.6"
  }
 },
 "nbformat": 4,
 "nbformat_minor": 5
}
