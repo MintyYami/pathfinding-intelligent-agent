{
 "cells": [
  {
   "metadata": {},
   "cell_type": "markdown",
   "source": "# Simulator with A* agents to create dataset for learning models",
   "id": "86f002f8ec1cba4a"
  },
  {
   "metadata": {
    "ExecuteTime": {
     "end_time": "2025-05-26T08:18:15.225972Z",
     "start_time": "2025-05-26T08:15:39.719244Z"
    }
   },
   "cell_type": "code",
   "source": [
    "from view.tkView import TkView\n",
    "from control.astarAgent import AStarAgent\n",
    "from model.model import Model\n",
    "import random\n",
    "import numpy as np\n",
    "from time import sleep\n",
    "\n",
    "NUM_OF_MAPS = 30\n",
    "UNIT_TIME = 1200\n",
    "ORDER_SIZE = 100\n",
    "\n",
    "all_states = []\n",
    "all_labels = []\n",
    "\n",
    "# simulate different maps\n",
    "for map_num in range(NUM_OF_MAPS):\n",
    "    # generate model for training data\n",
    "    agents = 3\n",
    "    model = Model((random.randint(10, 15), random.randint(10, 15)),\n",
    "                  agents, ORDER_SIZE)\n",
    "    view = TkView(model)\n",
    "\n",
    "    # agent to create data\n",
    "    labeller = AStarAgent()\n",
    "    labeller.initialise(model)\n",
    "\n",
    "    # simulate training data (state) for each agent\n",
    "    for _ in range(UNIT_TIME):\n",
    "        for agent in model.agents:\n",
    "            # don't move if no target\n",
    "            if agent.target_pos is None:\n",
    "                continue\n",
    "            # check has energy to move\n",
    "            if agent.energy > 0:\n",
    "                bestMove = labeller._choose_action(agent)\n",
    "\n",
    "                if None != bestMove:\n",
    "                    # save state (x)\n",
    "                    neighbours = model.get_neighbour_encoded(agent)\n",
    "                    # states: agent_x, agent_y, target_x, target_y,\n",
    "                    # at_up, at_down, at_left, at_right,\n",
    "                    # orderItem, hasItem, energy, charge\n",
    "                    state = [\n",
    "                        agent.pos[0], agent.pos[1], agent.target_pos[0], agent.target_pos[1],\n",
    "                        neighbours[0], neighbours[1], neighbours[2], neighbours[3],\n",
    "                        agent.hasItem, agent.energy, agent.charge\n",
    "                    ]\n",
    "                    all_states.append(state)\n",
    "                    # save move (y)\n",
    "                    bestEncoded = labeller.encode_move(agent.pos, bestMove)\n",
    "                    all_labels.append(bestEncoded)\n",
    "\n",
    "                    # move agent to find next state to simulate\n",
    "                    agent.prev_pos = agent.pos\n",
    "                    agent.pos = bestMove\n",
    "\n",
    "                # allow stay-still data at charging station\n",
    "                elif model.grid[agent.pos] == 2:\n",
    "                    # save state (x)\n",
    "                    neighbours = model.get_neighbour_encoded(agent)\n",
    "                    # states: agent_x, agent_y, target_x, target_y,\n",
    "                    # at_up, at_down, at_left, at_right, charge\n",
    "                    state = [\n",
    "                        agent.pos[0], agent.pos[1], agent.target_pos[0], agent.target_pos[1],\n",
    "                        neighbours[0], neighbours[1], neighbours[2], neighbours[3],\n",
    "                        agent.hasItem, agent.energy, agent.charge\n",
    "                    ]\n",
    "                    all_states.append(state)\n",
    "                    # save move (y)\n",
    "                    all_labels.append(4) # stay still\n",
    "\n",
    "            # return target order back to list, as no longer able to complete (dead)\n",
    "            elif agent.orderItem is not None:\n",
    "                model.order_list.insert(0, agent.orderItem)\n",
    "                agent.orderItem = None\n",
    "\n",
    "        # update model info\n",
    "        model.update_status()\n",
    "        model.timeStep += 1\n",
    "\n",
    "        # view.render()\n",
    "\n",
    "        # break loop no agent working (all finished or all dead)\n",
    "        if all(agent.orderItem is None for agent in model.agents):\n",
    "            break\n",
    "    view.root.destroy()\n",
    "    print(f\"Map {map_num+1} simulated in {model.timeStep} moves. Orders collected: {ORDER_SIZE-len(model.order_list)}/{ORDER_SIZE}\")\n",
    "all_states = np.array(all_states)\n",
    "all_labels = np.array(all_labels)"
   ],
   "id": "initial_id",
   "outputs": [
    {
     "name": "stdout",
     "output_type": "stream",
     "text": [
      "Map 1 simulated in 1200 moves. Orders collected: 100/100\n",
      "Map 2 simulated in 1200 moves. Orders collected: 82/100\n",
      "Map 3 simulated in 1200 moves. Orders collected: 91/100\n",
      "Map 4 simulated in 1200 moves. Orders collected: 97/100\n",
      "Map 5 simulated in 1200 moves. Orders collected: 92/100\n",
      "Map 6 simulated in 1200 moves. Orders collected: 88/100\n",
      "Map 7 simulated in 1137 moves. Orders collected: 100/100\n",
      "Map 8 simulated in 1200 moves. Orders collected: 85/100\n",
      "Map 9 simulated in 1200 moves. Orders collected: 87/100\n",
      "Map 10 simulated in 1200 moves. Orders collected: 99/100\n",
      "Map 11 simulated in 1200 moves. Orders collected: 99/100\n",
      "Map 12 simulated in 1200 moves. Orders collected: 100/100\n",
      "Map 13 simulated in 1200 moves. Orders collected: 97/100\n",
      "Map 14 simulated in 1200 moves. Orders collected: 93/100\n",
      "Map 15 simulated in 1200 moves. Orders collected: 85/100\n",
      "Map 16 simulated in 1200 moves. Orders collected: 54/100\n",
      "Map 17 simulated in 1191 moves. Orders collected: 100/100\n",
      "Map 18 simulated in 1200 moves. Orders collected: 96/100\n",
      "Map 19 simulated in 1200 moves. Orders collected: 89/100\n",
      "Map 20 simulated in 1200 moves. Orders collected: 94/100\n",
      "Map 21 simulated in 1200 moves. Orders collected: 85/100\n",
      "Map 22 simulated in 1200 moves. Orders collected: 100/100\n",
      "Map 23 simulated in 1167 moves. Orders collected: 100/100\n",
      "Map 24 simulated in 1200 moves. Orders collected: 93/100\n",
      "Map 25 simulated in 1200 moves. Orders collected: 97/100\n",
      "Map 26 simulated in 1130 moves. Orders collected: 100/100\n",
      "Map 27 simulated in 1200 moves. Orders collected: 92/100\n",
      "Map 28 simulated in 1200 moves. Orders collected: 93/100\n",
      "Map 29 simulated in 1200 moves. Orders collected: 91/100\n",
      "Map 30 simulated in 1200 moves. Orders collected: 89/100\n"
     ]
    }
   ],
   "execution_count": 34
  },
  {
   "metadata": {
    "ExecuteTime": {
     "end_time": "2025-05-26T08:18:25.122027Z",
     "start_time": "2025-05-26T08:18:25.118271Z"
    }
   },
   "cell_type": "code",
   "source": [
    "print(all_states.shape)\n",
    "all_states\n",
    "# np.where(all_states==5)"
   ],
   "id": "10c35f852972171f",
   "outputs": [
    {
     "name": "stdout",
     "output_type": "stream",
     "text": [
      "(103622, 11)\n"
     ]
    },
    {
     "data": {
      "text/plain": [
       "array([[  4,   4,  11, ...,   0, 119,   0],\n",
       "       [  1,   1,   6, ...,   0, 119,   0],\n",
       "       [  9,   7,   3, ...,   0, 119,   0],\n",
       "       ...,\n",
       "       [  5,  10,  13, ...,   1,  85,   0],\n",
       "       [ 12,   8,  13, ...,   1, 105,   0],\n",
       "       [ 11,  10,  13, ...,   1,  63,   0]], shape=(103622, 11))"
      ]
     },
     "execution_count": 35,
     "metadata": {},
     "output_type": "execute_result"
    }
   ],
   "execution_count": 35
  },
  {
   "metadata": {
    "ExecuteTime": {
     "end_time": "2025-05-26T08:18:27.470669Z",
     "start_time": "2025-05-26T08:18:27.467130Z"
    }
   },
   "cell_type": "code",
   "source": [
    "print(all_labels.shape)\n",
    "all_labels"
   ],
   "id": "19beca9205c9b803",
   "outputs": [
    {
     "name": "stdout",
     "output_type": "stream",
     "text": [
      "(103622,)\n"
     ]
    },
    {
     "data": {
      "text/plain": [
       "array([1, 1, 0, ..., 1, 3, 1], shape=(103622,))"
      ]
     },
     "execution_count": 36,
     "metadata": {},
     "output_type": "execute_result"
    }
   ],
   "execution_count": 36
  },
  {
   "metadata": {},
   "cell_type": "markdown",
   "source": "# Save data",
   "id": "dd377e729340bf27"
  },
  {
   "metadata": {
    "ExecuteTime": {
     "end_time": "2025-05-26T11:31:57.801360Z",
     "start_time": "2025-05-26T11:31:57.781686Z"
    }
   },
   "cell_type": "code",
   "source": [
    "# save simulated data!\n",
    "from joblib import dump\n",
    "dump(all_states, \"simulated_states.joblib\")\n",
    "dump(all_labels, \"simulated_labels.joblib\")"
   ],
   "id": "abe7da0c77808e30",
   "outputs": [
    {
     "data": {
      "text/plain": [
       "['simulated_labels.joblib']"
      ]
     },
     "execution_count": 38,
     "metadata": {},
     "output_type": "execute_result"
    }
   ],
   "execution_count": 38
  },
  {
   "metadata": {
    "ExecuteTime": {
     "end_time": "2025-05-26T07:48:08.647970Z",
     "start_time": "2025-05-26T07:48:08.574059Z"
    }
   },
   "cell_type": "code",
   "source": [
    "# load simulated data\n",
    "from joblib import load\n",
    "all_states = load(\"simulated_states.joblib\")\n",
    "all_labels = load(\"simulated_labels.joblib\")"
   ],
   "id": "792c2344a18b5177",
   "outputs": [],
   "execution_count": 25
  }
 ],
 "metadata": {
  "kernelspec": {
   "display_name": "Python 3",
   "language": "python",
   "name": "python3"
  },
  "language_info": {
   "codemirror_mode": {
    "name": "ipython",
    "version": 2
   },
   "file_extension": ".py",
   "mimetype": "text/x-python",
   "name": "python",
   "nbconvert_exporter": "python",
   "pygments_lexer": "ipython2",
   "version": "2.7.6"
  }
 },
 "nbformat": 4,
 "nbformat_minor": 5
}
